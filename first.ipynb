{
  "nbformat": 4,
  "nbformat_minor": 0,
  "metadata": {
    "colab": {
      "provenance": [],
      "authorship_tag": "ABX9TyOT3SAnkZqbLSh7Lb3MzwyL",
      "include_colab_link": true
    },
    "kernelspec": {
      "name": "python3",
      "display_name": "Python 3"
    },
    "language_info": {
      "name": "python"
    }
  },
  "cells": [
    {
      "cell_type": "markdown",
      "metadata": {
        "id": "view-in-github",
        "colab_type": "text"
      },
      "source": [
        "<a href=\"https://colab.research.google.com/github/mohsenshahii/Heart/blob/main/first.ipynb\" target=\"_parent\"><img src=\"https://colab.research.google.com/assets/colab-badge.svg\" alt=\"Open In Colab\"/></a>"
      ]
    },
    {
      "cell_type": "code",
      "execution_count": 3,
      "metadata": {
        "colab": {
          "base_uri": "https://localhost:8080/"
        },
        "id": "m4bxeAPKMKpx",
        "outputId": "501364fe-7262-4a4e-d060-3d4a3c22ee78"
      },
      "outputs": [
        {
          "output_type": "stream",
          "name": "stdout",
          "text": [
            "500\n",
            "3000\n"
          ]
        }
      ],
      "source": [
        "\n",
        "class Item:\n",
        "    def calculate_total_price(self, x, y):\n",
        "        return x * y\n",
        "\n",
        "\n",
        "item1 = Item()\n",
        "\n",
        "\n",
        "item1.name = \"Phone\"\n",
        "item1.price = 100\n",
        "item1.quantity = 5\n",
        "\n",
        "\n",
        "print(item1.calculate_total_price(item1.price, item1.quantity))\n",
        "\n",
        "\n",
        "item2 = Item()\n",
        "\n",
        "\n",
        "item2.name = \"Laptop\"\n",
        "item2.price = 1000\n",
        "item2.quantity = 3\n",
        "\n",
        "\n",
        "print(item2.calculate_total_price(item2.price, item2.quantity))"
      ]
    }
  ]
}